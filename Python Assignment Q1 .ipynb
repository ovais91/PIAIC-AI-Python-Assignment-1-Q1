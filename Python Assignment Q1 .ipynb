{
 "cells": [
  {
   "cell_type": "markdown",
   "metadata": {},
   "source": [
    "# Quiz 1 Q1 Saylaani Headoffice SAT 6:45PM to 9:45PM\n",
    "## Teacher : Sir Qasim \n",
    "### Sheikh M Ovais(AIC 037435)\n",
    "#### PIAIC - AI Q1\n"
   ]
  },
  {
   "cell_type": "markdown",
   "metadata": {},
   "source": [
    "# 1. Calculate Area of a Cirle:"
   ]
  },
  {
   "cell_type": "code",
   "execution_count": 4,
   "metadata": {},
   "outputs": [
    {
     "name": "stdout",
     "output_type": "stream",
     "text": [
      "Enter Radius value(number) for Circle :0.5\n",
      "Area of the Circle with Radius {R} is : 0.79 \n"
     ]
    }
   ],
   "source": [
    "PI = 3.141592654\n",
    "R = float(input(\"Enter Radius value(number) for Circle :\"))\n",
    "AREA = PI*(R**2)\n",
    "print(\"Area of the Circle with Radius {R} is : %0.2f \" %AREA)\n"
   ]
  },
  {
   "cell_type": "markdown",
   "metadata": {},
   "source": [
    "# 2. Check Number either positive, negative or zero:"
   ]
  },
  {
   "cell_type": "code",
   "execution_count": 15,
   "metadata": {},
   "outputs": [
    {
     "name": "stdout",
     "output_type": "stream",
     "text": [
      "Enter any Whole Number: 1\n",
      "Positive Number Entered\n"
     ]
    }
   ],
   "source": [
    "n = int(input(\"Enter any Whole Number: \"))\n",
    "if n < 0:\n",
    "    print(\"Negative Number is Entered\")\n",
    "elif n > 0:\n",
    "    print(\"Positive Number Entered\")\n",
    "else:\n",
    "    print(\"Zero is Entered\")\n"
   ]
  },
  {
   "cell_type": "code",
   "execution_count": null,
   "metadata": {},
   "outputs": [],
   "source": [
    "#Enter any Whole Number: -1\n",
    "#Negative Number is Entered"
   ]
  },
  {
   "cell_type": "code",
   "execution_count": null,
   "metadata": {},
   "outputs": [],
   "source": [
    "#Enter any Whole Number: 0\n",
    "#Zero is Entered"
   ]
  },
  {
   "cell_type": "markdown",
   "metadata": {},
   "source": [
    "# 3. Divisibility Check of two numbers:"
   ]
  },
  {
   "cell_type": "code",
   "execution_count": 19,
   "metadata": {},
   "outputs": [
    {
     "name": "stdout",
     "output_type": "stream",
     "text": [
      "Enter Numerator: 4\n",
      "Enter Denominator: 2\n",
      "Number 4 is Completely Divisible by 2\n"
     ]
    }
   ],
   "source": [
    "#Division of whole numbers only for checking\n",
    "n = int(input(\"Enter Numerator: \"))\n",
    "d = int(input(\"Enter Denominator: \"))\n",
    "if n % d  == 0:\n",
    "    print(\"Number\", n , \"is Completely Divisible by\", d)\n",
    "else:\n",
    "     print(\"Number\", n , \"is not Completely Divisible by\", d)\n"
   ]
  },
  {
   "cell_type": "code",
   "execution_count": null,
   "metadata": {},
   "outputs": [],
   "source": [
    "#Enter Numerator: 3\n",
    "#Enter Denominator: 2\n",
    "#Number 3 is not Completely Divisible by 2"
   ]
  },
  {
   "cell_type": "markdown",
   "metadata": {},
   "source": [
    "# 4. Days Calculator:"
   ]
  },
  {
   "cell_type": "code",
   "execution_count": 21,
   "metadata": {},
   "outputs": [
    {
     "name": "stdout",
     "output_type": "stream",
     "text": [
      "Enter Start date in (dd/mm/yy) Format: 5/4/2019\n",
      "Enter End date in (dd/mm/yy) Format: 5/5/2019\n",
      "There are 30 days in Between 5/4/2019 and 5/5/2019\n"
     ]
    }
   ],
   "source": [
    "from datetime import datetime\n",
    "date_format = \"%d/%m/%Y\"\n",
    "s = input(\"Enter Start date in (dd/mm/yy) Format: \")\n",
    "e = input(\"Enter End date in (dd/mm/yy) Format: \")\n",
    "S = datetime.strptime( s , date_format)\n",
    "E = datetime.strptime( e , date_format)\n",
    "delta = E - S\n",
    "print (\"There are\", delta.days, \"days in Between\", s , \"and\" , e)\n"
   ]
  },
  {
   "cell_type": "code",
   "execution_count": null,
   "metadata": {},
   "outputs": [],
   "source": [
    "#Enter Start date in (dd/mm/yy) Format: 1/2/2018\n",
    "#Enter End date in (dd/mm/yy) Format: 1/3/2018\n",
    "#There are 28 days in Between 1/2/2018 and 1/3/2018"
   ]
  },
  {
   "cell_type": "markdown",
   "metadata": {},
   "source": [
    "# 5. Calculate volume of Sphere:"
   ]
  },
  {
   "cell_type": "code",
   "execution_count": 52,
   "metadata": {
    "scrolled": true
   },
   "outputs": [
    {
     "name": "stdout",
     "output_type": "stream",
     "text": [
      "Enter Radius value(number) for Sphere:3\n",
      "The Volume of Sphere with Radius {R} is : 113.10 \n"
     ]
    }
   ],
   "source": [
    "PI = 3.141592654\n",
    "R = float(input(\"Enter Radius value(number) for Sphere:\"))\n",
    "V=(4.0/3.0)*PI*R**3\n",
    "print(\"The Volume of Sphere with Radius {R} is : %0.2f \" %V)"
   ]
  },
  {
   "cell_type": "markdown",
   "metadata": {},
   "source": [
    "# 6. Copy String N Times:"
   ]
  },
  {
   "cell_type": "code",
   "execution_count": 54,
   "metadata": {},
   "outputs": [
    {
     "name": "stdout",
     "output_type": "stream",
     "text": [
      "Enter string: qasim\n",
      "How many possible copies of String Data you need to print: 5\n",
      "5 Copies of qasim are : qasimqasimqasimqasimqasim\n"
     ]
    }
   ],
   "source": [
    "S = str(input(\"Enter string: \"))\n",
    "C = int(input(\"How many possible copies of String Data you need to print: \"))\n",
    "if C > 0:\n",
    "    print(C,\"Copies of\", S , \"are :\" , S * C)        \n",
    "else:\n",
    "    print(\"you Entered Invalid number of Copies:\")\n"
   ]
  },
  {
   "cell_type": "markdown",
   "metadata": {},
   "source": [
    "# 7. Checking If Number is Even or Odd:"
   ]
  },
  {
   "cell_type": "code",
   "execution_count": 64,
   "metadata": {},
   "outputs": [
    {
     "name": "stdout",
     "output_type": "stream",
     "text": [
      "Enter any whole Number: 7\n",
      "7 is Odd\n"
     ]
    }
   ],
   "source": [
    "num = int(input(\"Enter any whole Number: \"))\n",
    "if num % 2 == 0:\n",
    "    print(num, \"is Even\")\n",
    "else:\n",
    "    print(num, \"is Odd\")\n"
   ]
  },
  {
   "cell_type": "code",
   "execution_count": null,
   "metadata": {},
   "outputs": [],
   "source": [
    "#Enter any whole Number: -4\n",
    "#-4 is Even"
   ]
  },
  {
   "cell_type": "markdown",
   "metadata": {},
   "source": [
    "# 8. Vowel Tester:"
   ]
  },
  {
   "cell_type": "code",
   "execution_count": 70,
   "metadata": {},
   "outputs": [
    {
     "name": "stdout",
     "output_type": "stream",
     "text": [
      "Enter a Character from Alphabets: a\n",
      "Letter  a is Vowel\n"
     ]
    }
   ],
   "source": [
    "char = input(\"Enter a Character from Alphabets: \")\n",
    "c = char.lower()\n",
    "if c == \"a\" or c == \"e\" or c == \"i\" or c == \"o\" or c == \"u\" :\n",
    "    print(\"Letter \",char, \"is Vowel\")\n",
    "else:\n",
    "    print(\"Letter \",char, \"is not Vowel\")\n"
   ]
  },
  {
   "cell_type": "code",
   "execution_count": null,
   "metadata": {},
   "outputs": [],
   "source": [
    "#Enter a Character from Alphabets: E\n",
    "#Letter  E is Vowel"
   ]
  },
  {
   "cell_type": "code",
   "execution_count": null,
   "metadata": {},
   "outputs": [],
   "source": [
    "#Enter a Character from Alphabets: N\n",
    "#Letter  N is not Vowel"
   ]
  },
  {
   "cell_type": "markdown",
   "metadata": {},
   "source": [
    "# 9. Triangle Area:"
   ]
  },
  {
   "cell_type": "code",
   "execution_count": 1,
   "metadata": {},
   "outputs": [
    {
     "name": "stdout",
     "output_type": "stream",
     "text": [
      "Enter Magnitude of Triangle Base:4\n",
      "Enter Magnitude of Triangle Height:4\n",
      "Area of a Triangle with Base 4 and Height 4  : 8.0\n"
     ]
    }
   ],
   "source": [
    "b = int(input(\"Enter Magnitude of Triangle Base:\"))\n",
    "h = int(input(\"Enter Magnitude of Triangle Height:\"))\n",
    "print(\"Area of a Triangle with Base\",b,\"and Height\",h,\" :\", h * b / 2)\n"
   ]
  },
  {
   "cell_type": "markdown",
   "metadata": {},
   "source": [
    "# 10. Calculate Interest:"
   ]
  },
  {
   "cell_type": "code",
   "execution_count": 10,
   "metadata": {},
   "outputs": [
    {
     "name": "stdout",
     "output_type": "stream",
     "text": [
      "Please Enter Principle Amount: 10000\n",
      "Please Enter rate of interest in %: .1\n",
      "Enter Number of years for Investment: 5\n",
      "After 5 years your principal amount 10000 over an interest rate of 0.1 % will be 1610.51\n"
     ]
    }
   ],
   "source": [
    "a = int(input(\"Please Enter Principle Amount: \"))\n",
    "b = float(input(\"Please Enter rate of interest in %: \"))\n",
    "c = int(input(\"Enter Number of years for Investment: \"))\n",
    "e = 0\n",
    "f = a * b \n",
    "while e < c:\n",
    "    f += f * b \n",
    "    e += 1\n",
    "print(\"After\",c,\"years your principal amount\",a,\"over an interest rate of\",b,\"% will be\",f)\n"
   ]
  },
  {
   "cell_type": "markdown",
   "metadata": {},
   "source": [
    "# 11. Euclidean Distance:"
   ]
  },
  {
   "cell_type": "code",
   "execution_count": 11,
   "metadata": {},
   "outputs": [
    {
     "name": "stdout",
     "output_type": "stream",
     "text": [
      "Enter Co-ordinate for X1: 2\n",
      "Enter Co-ordinate for X2: 4\n",
      "Enter Co-ordinate for Y1: 4\n",
      "Enter Co-ordinate for Y2: 4\n",
      "Distance Between Points ( 2 , 4 ) and ( 4 , 4 ) is:  2.0\n"
     ]
    }
   ],
   "source": [
    "import math\n",
    "a = int(input(\"Enter Co-ordinate for X1: \"))\n",
    "b = int(input(\"Enter Co-ordinate for X2: \"))\n",
    "c = int(input(\"Enter Co-ordinate for Y1: \"))\n",
    "d = int(input(\"Enter Co-ordinate for Y2: \"))\n",
    "g = (a - b)*(a - b) + (c - d)*(c - d)\n",
    "e = math.sqrt(g)\n",
    "print(\"Distance Between Points (\", a , \",\" , c , \") and (\" ,b, \",\" , d , \") is: \",e)\n"
   ]
  },
  {
   "cell_type": "markdown",
   "metadata": {},
   "source": [
    "# 12. Feet to Centimeter Converter:"
   ]
  },
  {
   "cell_type": "code",
   "execution_count": 12,
   "metadata": {},
   "outputs": [
    {
     "name": "stdout",
     "output_type": "stream",
     "text": [
      "Enter Height in Feet: 5\n",
      "There are 152.4 cm in 5.0 ft\n"
     ]
    }
   ],
   "source": [
    "a = float(input(\"Enter Height in Feet: \"))\n",
    "print(\"There are\", a * 30.48,\"cm\",\"in\",a,\"ft\" )\n"
   ]
  },
  {
   "cell_type": "markdown",
   "metadata": {},
   "source": [
    "# 13. BMI Calculator:"
   ]
  },
  {
   "cell_type": "code",
   "execution_count": 11,
   "metadata": {},
   "outputs": [
    {
     "name": "stdout",
     "output_type": "stream",
     "text": [
      "Enter Height in cm: 180\n",
      "Enter Weight in kg: 75\n",
      " Your BMI is:  23.15\n"
     ]
    }
   ],
   "source": [
    "h = float(input(\"Enter Height in cm: \"))\n",
    "w = float(input(\"Enter Weight in kg: \"))\n",
    "bmi = round( w / (( h * 0.01 )**2) ,2 )\n",
    "print( \" Your BMI is: \", bmi )"
   ]
  },
  {
   "cell_type": "markdown",
   "metadata": {},
   "source": [
    "# 14. Sum of N Positive Integers:"
   ]
  },
  {
   "cell_type": "code",
   "execution_count": 15,
   "metadata": {},
   "outputs": [
    {
     "name": "stdout",
     "output_type": "stream",
     "text": [
      "Enter value of n: 5\n",
      " Sum of N Posistive Inetegers till {N} is :  15.0\n"
     ]
    }
   ],
   "source": [
    "n = int(input(\"Enter value of n: \"))\n",
    "sum = (n*(n+1)) / 2\n",
    "print(\" Sum of N Posistive Inetegers till {N} is : \", sum)"
   ]
  },
  {
   "cell_type": "markdown",
   "metadata": {},
   "source": [
    "# 15. Digits Sum of Numbers:"
   ]
  },
  {
   "cell_type": "code",
   "execution_count": 18,
   "metadata": {},
   "outputs": [
    {
     "name": "stdout",
     "output_type": "stream",
     "text": [
      "Enter a Number: 1234\n",
      "Sum of 1+2+3+4 is:  10\n"
     ]
    }
   ],
   "source": [
    "n = str(input(\"Enter a Number: \"))\n",
    "sum = 0 \n",
    "for x in n:\n",
    "    sum += int(x)\n",
    "print(\"Sum of\", '+'.join(map(str,n)) ,\"is: \",sum)\n"
   ]
  },
  {
   "cell_type": "code",
   "execution_count": null,
   "metadata": {},
   "outputs": [],
   "source": [
    "# Enter a Number: 15\n",
    "# Sum of 1+5 is:  6"
   ]
  },
  {
   "cell_type": "markdown",
   "metadata": {},
   "source": [
    "# 16. Decimal To Binary Converter:"
   ]
  },
  {
   "cell_type": "code",
   "execution_count": 22,
   "metadata": {},
   "outputs": [
    {
     "name": "stdout",
     "output_type": "stream",
     "text": [
      "Enter a Decimal number: 5\n",
      "Binary Reperesentation of 5 is:  101\n"
     ]
    }
   ],
   "source": [
    "d = int(input(\"Enter a Decimal number: \"))\n",
    "b = bin(d)\n",
    "print(\"Binary Reperesentation of\",d,\"is: \", b[2:])\n"
   ]
  },
  {
   "cell_type": "code",
   "execution_count": null,
   "metadata": {},
   "outputs": [],
   "source": [
    "# Enter a Decimal number: 32\n",
    "# Binary Reperesentation of 32 is:  100000"
   ]
  },
  {
   "cell_type": "markdown",
   "metadata": {},
   "source": [
    "# 17. Binary To Decimal Converter:"
   ]
  },
  {
   "cell_type": "code",
   "execution_count": 24,
   "metadata": {},
   "outputs": [
    {
     "name": "stdout",
     "output_type": "stream",
     "text": [
      "Enter a Binary number: 1101\n",
      "Decimal Reperesentation of 1101 is:  13\n"
     ]
    }
   ],
   "source": [
    "b = input(\"Enter a Binary number: \")\n",
    "d = int(b,2)\n",
    "print(\"Decimal Reperesentation of\",b,\"is: \",d)\n"
   ]
  },
  {
   "cell_type": "code",
   "execution_count": null,
   "metadata": {},
   "outputs": [],
   "source": [
    "# Enter a Binary number: 1001\n",
    "# Decimal Reperesentation of 1001 is:  9\n"
   ]
  },
  {
   "cell_type": "markdown",
   "metadata": {},
   "source": [
    "# 18. Vowel and Consonants Counter:"
   ]
  },
  {
   "cell_type": "code",
   "execution_count": 25,
   "metadata": {},
   "outputs": [
    {
     "name": "stdout",
     "output_type": "stream",
     "text": [
      "Enter Text: QuickBrownFoxJumpsovertheDog\n",
      "Vowels:  9\n",
      "Consonants:  19\n"
     ]
    }
   ],
   "source": [
    "a = input(\"Enter Text: \")\n",
    "c = a.lower()\n",
    "vowel = 0\n",
    "consonant = 0\n",
    "for x in c:\n",
    "    if x == \"a\" or x == \"e\" or x == \"i\" or x == \"o\" or x == \"u\":\n",
    "        vowel += 1\n",
    "    else:\n",
    "        consonant += 1\n",
    "print(\"Vowels: \", vowel)\n",
    "print(\"Consonants: \", consonant)\n"
   ]
  },
  {
   "cell_type": "markdown",
   "metadata": {},
   "source": [
    "# 19. Palindrome Tester:"
   ]
  },
  {
   "cell_type": "code",
   "execution_count": 35,
   "metadata": {},
   "outputs": [
    {
     "name": "stdout",
     "output_type": "stream",
     "text": [
      "Enter Text: AHA\n",
      "Text is Palindrome. \n"
     ]
    }
   ],
   "source": [
    "str_data = str(input(\"Enter Text: \"))\n",
    "str_data = str_data.casefold()\n",
    "str_rev = reversed( str_data )\n",
    "\n",
    "if list( str_data ) == list( str_rev ):\n",
    "    print(\"Text is Palindrome. \")\n",
    "    \n",
    "else:\n",
    "    print(\"Text is Not Palindrome. \")\n"
   ]
  },
  {
   "cell_type": "code",
   "execution_count": null,
   "metadata": {},
   "outputs": [],
   "source": [
    "# Enter Text: aIboUObiA\n",
    "# Text aIboUObiA is Palindrome. "
   ]
  },
  {
   "cell_type": "code",
   "execution_count": null,
   "metadata": {},
   "outputs": [],
   "source": [
    "# Enter Text: hello\n",
    "# Text is Not Palindrome. "
   ]
  },
  {
   "cell_type": "markdown",
   "metadata": {},
   "source": [
    "# 20. Count Alphabets,Numbers and Special Characters:"
   ]
  },
  {
   "cell_type": "code",
   "execution_count": 7,
   "metadata": {},
   "outputs": [
    {
     "name": "stdout",
     "output_type": "stream",
     "text": [
      "Enter Text: Python 3.2\n",
      "Alphabets:           6\n",
      "Numbers:             2\n",
      "Special Characters:  1\n",
      "Space:               1\n"
     ]
    }
   ],
   "source": [
    "str_data = input(\"Enter Text: \")\n",
    "alpha = 0\n",
    "digit = 0\n",
    "sc = 0\n",
    "space = 0\n",
    "for x in str_data:\n",
    "    if int(ord(x)) >= 65 and int(ord(x)) <= 122:\n",
    "        alpha += 1\n",
    "    elif int(ord(x)) >= 48 and int(ord(x)) <= 57:\n",
    "        digit += 1\n",
    "    elif x == \" \":\n",
    "        space += 1\n",
    "    else:\n",
    "        sc += 1\n",
    "print(\"Alphabets:          \",alpha)\n",
    "print(\"Numbers:            \",digit)\n",
    "print(\"Special Characters: \",sc)\n",
    "print(\"Space:              \",space)\n"
   ]
  },
  {
   "cell_type": "markdown",
   "metadata": {},
   "source": [
    "# 21. Pattern 1:"
   ]
  },
  {
   "cell_type": "code",
   "execution_count": 13,
   "metadata": {},
   "outputs": [
    {
     "name": "stdout",
     "output_type": "stream",
     "text": [
      "*\n",
      "**\n",
      "***\n",
      "****\n",
      "*****\n",
      "****\n",
      "***\n",
      "**\n",
      "*\n"
     ]
    }
   ],
   "source": [
    "f1 = 1\n",
    "i1 = 0\n",
    "f2 = 4\n",
    "i2 = 0\n",
    "while i1 <= 4:\n",
    "    d = '*'\n",
    "    print(d * f1)\n",
    "    f1 += 1\n",
    "    i1 += 1\n",
    "while i2 < 4:\n",
    "    d = '*'\n",
    "    print(d * f2)\n",
    "    f2 -= 1\n",
    "    i2 += 1\n"
   ]
  },
  {
   "cell_type": "markdown",
   "metadata": {},
   "source": [
    "# 22. Pattern 2:"
   ]
  },
  {
   "cell_type": "code",
   "execution_count": 14,
   "metadata": {},
   "outputs": [
    {
     "name": "stdout",
     "output_type": "stream",
     "text": [
      "1  \n",
      "1 2  \n",
      "1 2 3  \n",
      "1 2 3 4  \n",
      "1 2 3 4 5  \n",
      "1 2 3 4  \n",
      "1 2 3  \n",
      "1 2  \n",
      "1  \n"
     ]
    }
   ],
   "source": [
    "i = 6\n",
    "d = 0\n",
    "for x in range(1,i):\n",
    "    for y in range(1, x + 1):\n",
    "        print (y , end = \" \")\n",
    "    print(\" \")\n",
    "for r in range(4,d,-1):\n",
    "    for c in range(1, r + 1):\n",
    "        print (c , end = \" \")\n",
    "    print(\" \")\n"
   ]
  },
  {
   "cell_type": "markdown",
   "metadata": {},
   "source": [
    "# 23. Pattern 3:"
   ]
  },
  {
   "cell_type": "code",
   "execution_count": 15,
   "metadata": {},
   "outputs": [
    {
     "name": "stdout",
     "output_type": "stream",
     "text": [
      " \n",
      "1  \n",
      "2 2  \n",
      "3 3 3  \n",
      "4 4 4 4  \n",
      "5 5 5 5 5  \n",
      "6 6 6 6 6 6  \n",
      "7 7 7 7 7 7 7  \n",
      "8 8 8 8 8 8 8 8  \n",
      "9 9 9 9 9 9 9 9 9  \n"
     ]
    }
   ],
   "source": [
    "for i in range(10):\n",
    "    for f in range(i):\n",
    "        print(i, end = ' ')\n",
    "    print(\" \")\n"
   ]
  },
  {
   "cell_type": "code",
   "execution_count": null,
   "metadata": {},
   "outputs": [],
   "source": []
  }
 ],
 "metadata": {
  "kernelspec": {
   "display_name": "Python 3",
   "language": "python",
   "name": "python3"
  },
  "language_info": {
   "codemirror_mode": {
    "name": "ipython",
    "version": 3
   },
   "file_extension": ".py",
   "mimetype": "text/x-python",
   "name": "python",
   "nbconvert_exporter": "python",
   "pygments_lexer": "ipython3",
   "version": "3.7.3"
  }
 },
 "nbformat": 4,
 "nbformat_minor": 2
}
